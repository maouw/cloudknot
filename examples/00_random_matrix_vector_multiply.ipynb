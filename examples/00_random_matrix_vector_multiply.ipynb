{
 "cells": [
  {
   "cell_type": "markdown",
   "metadata": {
    "deletable": true,
    "editable": true
   },
   "source": [
    "# Using cloudknot to perform matrix-vector multiplication of random matrices"
   ]
  },
  {
   "cell_type": "markdown",
   "metadata": {
    "deletable": true,
    "editable": true
   },
   "source": [
    "This example uses cloudknot to perform matrix-vector multiplication of some random matrices with varying standard deviations."
   ]
  },
  {
   "cell_type": "code",
   "execution_count": 1,
   "metadata": {
    "deletable": true,
    "editable": true
   },
   "outputs": [],
   "source": [
    "import cloudknot as ck\n",
    "import logging\n",
    "logger = logging.getLogger()\n",
    "logger.setLevel(\n",
    "    logging.DEBUG\n",
    ")  # Change this to logging.DEBUG if you want more verbose output"
   ]
  },
  {
   "cell_type": "markdown",
   "metadata": {
    "deletable": true,
    "editable": true
   },
   "source": [
    "First, we write the python script that we want to run on AWS batch. Note that we import the necessary python packages within the function `random_mv_prod`."
   ]
  },
  {
   "cell_type": "code",
   "execution_count": 2,
   "metadata": {
    "deletable": true,
    "editable": true
   },
   "outputs": [],
   "source": [
    "def random_mv_prod(b):    \n",
    "    import numpy as np\n",
    "    import pandas as pd\n",
    "    import s3fs\n",
    "    import json\n",
    "    import logging\n",
    "    import os.path as op\n",
    "    import nibabel as nib\n",
    "    import dipy.data as dpd\n",
    "    import dipy.tracking.utils as dtu\n",
    "    import dipy.tracking.streamline as dts\n",
    "    from dipy.io.streamline import save_tractogram, load_tractogram\n",
    "    from dipy.stats.analysis import afq_profile, gaussian_weights\n",
    "    from dipy.io.stateful_tractogram import StatefulTractogram\n",
    "    from dipy.io.stateful_tractogram import Space\n",
    "    import dipy.core.gradients as dpg\n",
    "    from dipy.segment.mask import median_otsu\n",
    "    \n",
    "    x = np.random.normal(0, b, 1024)\n",
    "    A = np.random.normal(0, b, (1024, 1024))\n",
    "    \n",
    "    return np.dot(A, x)"
   ]
  },
  {
   "cell_type": "markdown",
   "metadata": {
    "deletable": true,
    "editable": true
   },
   "source": [
    "Create a knot using the `random_mv_prod` function and a job definition memory of 128 MiB."
   ]
  },
  {
   "cell_type": "code",
   "execution_count": 3,
   "metadata": {
    "deletable": true,
    "editable": true
   },
   "outputs": [
    {
     "name": "stderr",
     "output_type": "stream",
     "text": [
      "DEBUG:root:Found packages: {'json', 'logging', 'pickle', 'cloudpickle', 'os', 'nibabel', 'functools', 'dipy', 's3fs', 'boto3', 'numpy', 'argparse', 'pandas'}\n",
      "WARNING:root:Import named \"cloudpickle\" not found locally. Trying to resolve it at the PyPI server.\n",
      "DEBUG:urllib3.connectionpool:Starting new HTTPS connection (1): pypi.python.org:443\n",
      "DEBUG:urllib3.connectionpool:https://iam.amazonaws.com:443 \"POST / HTTP/1.1\" 200 454\n",
      "DEBUG:urllib3.connectionpool:Starting new HTTPS connection (1): cloudknot-root-4e3592e1-36c8-4295-88f1-4a45a1f08bc6.s3.amazonaws.com:443\n",
      "DEBUG:urllib3.connectionpool:https://pypi.python.org:443 \"GET /pypi/cloudpickle/json HTTP/1.1\" 301 122\n",
      "DEBUG:urllib3.connectionpool:Starting new HTTPS connection (1): pypi.org:443\n",
      "DEBUG:urllib3.connectionpool:https://pypi.org:443 \"GET /pypi/cloudpickle/json HTTP/1.1\" 200 14981\n",
      "WARNING:root:Import named \"cloudpickle\" was resolved to \"cloudpickle:3.0.0\" package (https://pypi.org/project/cloudpickle/).\n",
      "Please, verify manually the final list of requirements.txt to avoid possible dependency confusions.\n",
      "WARNING:root:Import named \"nibabel\" not found locally. Trying to resolve it at the PyPI server.\n",
      "DEBUG:urllib3.connectionpool:Starting new HTTPS connection (1): pypi.python.org:443\n",
      "DEBUG:urllib3.connectionpool:https://pypi.python.org:443 \"GET /pypi/nibabel/json HTTP/1.1\" 301 122\n",
      "DEBUG:urllib3.connectionpool:Starting new HTTPS connection (1): pypi.org:443\n",
      "DEBUG:urllib3.connectionpool:https://cloudknot-root-4e3592e1-36c8-4295-88f1-4a45a1f08bc6.s3.amazonaws.com:443 \"PUT / HTTP/1.1\" 200 0\n",
      "DEBUG:urllib3.connectionpool:https://iam.amazonaws.com:443 \"POST / HTTP/1.1\" 200 454\n",
      "DEBUG:urllib3.connectionpool:https://pypi.org:443 \"GET /pypi/nibabel/json HTTP/1.1\" 200 18542\n",
      "WARNING:root:Import named \"nibabel\" was resolved to \"nibabel:5.2.0\" package (https://pypi.org/project/nibabel/).\n",
      "Please, verify manually the final list of requirements.txt to avoid possible dependency confusions.\n",
      "WARNING:root:Import named \"boto3\" not found locally. Trying to resolve it at the PyPI server.\n",
      "DEBUG:urllib3.connectionpool:Starting new HTTPS connection (1): pypi.python.org:443\n",
      "DEBUG:urllib3.connectionpool:https://cloudknot-root-4e3592e1-36c8-4295-88f1-4a45a1f08bc6.s3.amazonaws.com:443 \"PUT /?tagging HTTP/1.1\" 204 0\n",
      "DEBUG:urllib3.connectionpool:https://pypi.python.org:443 \"GET /pypi/boto3/json HTTP/1.1\" 301 122\n",
      "DEBUG:urllib3.connectionpool:Starting new HTTPS connection (1): pypi.org:443\n",
      "DEBUG:urllib3.connectionpool:https://iam.amazonaws.com:443 \"POST / HTTP/1.1\" 409 376\n",
      "DEBUG:urllib3.connectionpool:https://pypi.org:443 \"GET /pypi/boto3/json HTTP/1.1\" 200 429640\n",
      "WARNING:root:Import named \"boto3\" was resolved to \"boto3:1.34.29\" package (https://pypi.org/project/boto3/).\n",
      "Please, verify manually the final list of requirements.txt to avoid possible dependency confusions.\n",
      "DEBUG:urllib3.connectionpool:https://iam.amazonaws.com:443 \"POST / HTTP/1.1\" 200 2263\n",
      "WARNING:root:Import named \"dipy\" not found locally. Trying to resolve it at the PyPI server.\n",
      "DEBUG:urllib3.connectionpool:Starting new HTTPS connection (1): pypi.python.org:443\n",
      "DEBUG:urllib3.connectionpool:https://pypi.python.org:443 \"GET /pypi/dipy/json HTTP/1.1\" 301 122\n",
      "DEBUG:urllib3.connectionpool:Starting new HTTPS connection (1): pypi.org:443\n",
      "DEBUG:urllib3.connectionpool:https://ec2.us-east-1.amazonaws.com:443 \"POST / HTTP/1.1\" 400 None\n",
      "DEBUG:urllib3.connectionpool:Resetting dropped connection: ec2.us-east-1.amazonaws.com\n",
      "DEBUG:urllib3.connectionpool:https://pypi.org:443 \"GET /pypi/dipy/json HTTP/1.1\" 200 58920\n",
      "WARNING:root:Import named \"dipy\" was resolved to \"dipy:1.8.0\" package (https://pypi.org/project/dipy/).\n",
      "Please, verify manually the final list of requirements.txt to avoid possible dependency confusions.\n",
      "WARNING:root:Import named \"s3fs\" not found locally. Trying to resolve it at the PyPI server.\n",
      "DEBUG:urllib3.connectionpool:Starting new HTTPS connection (1): pypi.python.org:443\n",
      "DEBUG:urllib3.connectionpool:https://pypi.python.org:443 \"GET /pypi/s3fs/json HTTP/1.1\" 301 122\n",
      "DEBUG:urllib3.connectionpool:Starting new HTTPS connection (1): pypi.org:443\n",
      "DEBUG:urllib3.connectionpool:https://pypi.org:443 \"GET /pypi/s3fs/json HTTP/1.1\" 200 19111\n",
      "WARNING:root:Import named \"s3fs\" was resolved to \"s3fs:2023.12.2\" package (https://pypi.org/project/s3fs/).\n",
      "Please, verify manually the final list of requirements.txt to avoid possible dependency confusions.\n",
      "WARNING:root:Import named \"numpy\" not found locally. Trying to resolve it at the PyPI server.\n",
      "DEBUG:urllib3.connectionpool:Starting new HTTPS connection (1): pypi.python.org:443\n",
      "DEBUG:urllib3.connectionpool:https://ec2.us-east-1.amazonaws.com:443 \"POST / HTTP/1.1\" 200 986\n",
      "DEBUG:urllib3.connectionpool:https://pypi.python.org:443 \"GET /pypi/numpy/json HTTP/1.1\" 301 122\n",
      "DEBUG:urllib3.connectionpool:Starting new HTTPS connection (1): pypi.org:443\n",
      "DEBUG:urllib3.connectionpool:https://pypi.org:443 \"GET /pypi/numpy/json HTTP/1.1\" 200 376750\n",
      "DEBUG:urllib3.connectionpool:https://ec2.us-east-1.amazonaws.com:443 \"POST / HTTP/1.1\" 200 7820\n",
      "WARNING:root:Import named \"numpy\" was resolved to \"numpy:1.26.3\" package (https://pypi.org/project/numpy/).\n",
      "Please, verify manually the final list of requirements.txt to avoid possible dependency confusions.\n",
      "WARNING:root:Import named \"pandas\" not found locally. Trying to resolve it at the PyPI server.\n",
      "DEBUG:urllib3.connectionpool:Starting new HTTPS connection (1): pypi.python.org:443\n",
      "DEBUG:urllib3.connectionpool:https://ec2.us-east-1.amazonaws.com:443 \"POST / HTTP/1.1\" 200 2973\n",
      "DEBUG:urllib3.connectionpool:Starting new HTTPS connection (1): cloudformation.us-east-1.amazonaws.com:443\n",
      "DEBUG:urllib3.connectionpool:https://pypi.python.org:443 \"GET /pypi/pandas/json HTTP/1.1\" 301 122\n",
      "DEBUG:urllib3.connectionpool:Starting new HTTPS connection (1): pypi.org:443\n",
      "DEBUG:urllib3.connectionpool:https://pypi.org:443 \"GET /pypi/pandas/json HTTP/1.1\" 200 277512\n",
      "WARNING:root:Import named \"pandas\" was resolved to \"pandas:2.2.0\" package (https://pypi.org/project/pandas/).\n",
      "Please, verify manually the final list of requirements.txt to avoid possible dependency confusions.\n",
      "DEBUG:root:Writing 7 requirements: cloudpickle, nibabel, boto3, dipy, s3fs, numpy, pandas to /home/altan/work/proj/cloudknot/cloudknot/examples/cloudknot_docker_random-mv-prod_5r6x84ww/requirements.txt\n",
      "DEBUG:docker.utils.config:Trying paths: ['/home/altan/.docker/config.json', '/home/altan/.dockercfg']\n",
      "DEBUG:docker.utils.config:Found file at path: /home/altan/.docker/config.json\n",
      "DEBUG:docker.auth:Found 'auths' section\n",
      "DEBUG:docker.auth:Found entry (registry='381491942420.dkr.ecr.us-east-1.amazonaws.com', username='AWS')\n",
      "DEBUG:docker.auth:Found entry (registry='ghcr.io', username='maouw')\n",
      "DEBUG:urllib3.connectionpool:http://localhost:None \"GET /version HTTP/1.1\" 200 834\n",
      "DEBUG:docker.api.build:Looking for auth config\n",
      "DEBUG:docker.api.build:Sending auth config ('381491942420.dkr.ecr.us-east-1.amazonaws.com', 'ghcr.io')\n",
      "DEBUG:urllib3.connectionpool:http://localhost:None \"POST /v1.44/build?t=cloudknot%2Frandom-mv-prod%3Arandom-mv-prod-04&q=False&nocache=False&rm=True&forcerm=True&pull=False&dockerfile=Dockerfile HTTP/1.1\" 200 None\n",
      "DEBUG:urllib3.connectionpool:https://cloudformation.us-east-1.amazonaws.com:443 \"POST / HTTP/1.1\" 200 392\n",
      "DEBUG:urllib3.connectionpool:https://cloudformation.us-east-1.amazonaws.com:443 \"POST / HTTP/1.1\" 200 3105\n",
      "DEBUG:urllib3.connectionpool:Resetting dropped connection: cloudformation.us-east-1.amazonaws.com\n",
      "DEBUG:urllib3.connectionpool:https://cloudformation.us-east-1.amazonaws.com:443 \"POST / HTTP/1.1\" 200 3043\n",
      "DEBUG:urllib3.connectionpool:Resetting dropped connection: cloudformation.us-east-1.amazonaws.com\n",
      "DEBUG:urllib3.connectionpool:https://cloudformation.us-east-1.amazonaws.com:443 \"POST / HTTP/1.1\" 200 3043\n",
      "DEBUG:urllib3.connectionpool:Resetting dropped connection: cloudformation.us-east-1.amazonaws.com\n",
      "DEBUG:urllib3.connectionpool:https://cloudformation.us-east-1.amazonaws.com:443 \"POST / HTTP/1.1\" 200 3043\n",
      "DEBUG:urllib3.connectionpool:Resetting dropped connection: cloudformation.us-east-1.amazonaws.com\n",
      "DEBUG:urllib3.connectionpool:https://cloudformation.us-east-1.amazonaws.com:443 \"POST / HTTP/1.1\" 200 3043\n",
      "DEBUG:urllib3.connectionpool:Resetting dropped connection: cloudformation.us-east-1.amazonaws.com\n",
      "DEBUG:urllib3.connectionpool:https://cloudformation.us-east-1.amazonaws.com:443 \"POST / HTTP/1.1\" 200 3043\n",
      "DEBUG:urllib3.connectionpool:Resetting dropped connection: cloudformation.us-east-1.amazonaws.com\n",
      "DEBUG:urllib3.connectionpool:https://cloudformation.us-east-1.amazonaws.com:443 \"POST / HTTP/1.1\" 200 3043\n",
      "DEBUG:urllib3.connectionpool:Resetting dropped connection: cloudformation.us-east-1.amazonaws.com\n",
      "DEBUG:urllib3.connectionpool:https://cloudformation.us-east-1.amazonaws.com:443 \"POST / HTTP/1.1\" 200 3043\n",
      "DEBUG:urllib3.connectionpool:http://localhost:None \"GET /v1.44/images/e67cdaa82266/json HTTP/1.1\" 200 None\n",
      "DEBUG:urllib3.connectionpool:Starting new HTTPS connection (1): api.ecr.us-east-1.amazonaws.com:443\n",
      "DEBUG:urllib3.connectionpool:https://api.ecr.us-east-1.amazonaws.com:443 \"POST / HTTP/1.1\" 200 388\n",
      "DEBUG:urllib3.connectionpool:Resetting dropped connection: iam.amazonaws.com\n",
      "DEBUG:urllib3.connectionpool:https://iam.amazonaws.com:443 \"POST / HTTP/1.1\" 200 454\n",
      "DEBUG:urllib3.connectionpool:https://api.ecr.us-east-1.amazonaws.com:443 \"POST / HTTP/1.1\" 200 2\n",
      "DEBUG:urllib3.connectionpool:https://api.ecr.us-east-1.amazonaws.com:443 \"POST / HTTP/1.1\" 200 388\n",
      "DEBUG:urllib3.connectionpool:https://iam.amazonaws.com:443 \"POST / HTTP/1.1\" 200 454\n",
      "DEBUG:urllib3.connectionpool:https://api.ecr.us-east-1.amazonaws.com:443 \"POST / HTTP/1.1\" 200 2\n",
      "DEBUG:urllib3.connectionpool:https://iam.amazonaws.com:443 \"POST / HTTP/1.1\" 200 454\n",
      "DEBUG:urllib3.connectionpool:https://api.ecr.us-east-1.amazonaws.com:443 \"POST / HTTP/1.1\" 200 388\n",
      "DEBUG:urllib3.connectionpool:https://api.ecr.us-east-1.amazonaws.com:443 \"POST / HTTP/1.1\" 200 2\n",
      "DEBUG:urllib3.connectionpool:https://iam.amazonaws.com:443 \"POST / HTTP/1.1\" 200 454\n",
      "DEBUG:docker.utils.config:Trying paths: ['/home/altan/.docker/config.json', '/home/altan/.dockercfg']\n",
      "DEBUG:docker.utils.config:Found file at path: /home/altan/.docker/config.json\n",
      "DEBUG:docker.auth:Found 'auths' section\n",
      "DEBUG:docker.auth:Found entry (registry='381491942420.dkr.ecr.us-east-1.amazonaws.com', username='AWS')\n",
      "DEBUG:docker.auth:Found entry (registry='ghcr.io', username='maouw')\n",
      "DEBUG:urllib3.connectionpool:http://localhost:None \"GET /version HTTP/1.1\" 200 834\n",
      "DEBUG:docker.utils.config:Trying paths: ['/home/altan/.docker/config.json', '/home/altan/.dockercfg']\n",
      "DEBUG:docker.utils.config:Found file at path: /home/altan/.docker/config.json\n",
      "DEBUG:docker.auth:Found 'auths' section\n",
      "DEBUG:docker.auth:Found entry (registry='381491942420.dkr.ecr.us-east-1.amazonaws.com', username='AWS')\n",
      "DEBUG:docker.auth:Found entry (registry='ghcr.io', username='maouw')\n",
      "DEBUG:urllib3.connectionpool:http://localhost:None \"GET /version HTTP/1.1\" 200 834\n",
      "DEBUG:urllib3.connectionpool:http://localhost:None \"POST /v1.44/images/cloudknot/random-mv-prod:random-mv-prod-04/tag?tag=random-mv-prod-04&repo=381491942420.dkr.ecr.us-east-1.amazonaws.com%2Fcloudknot&force=0 HTTP/1.1\" 201 0\n",
      "DEBUG:docker.auth:Looking for auth config\n",
      "DEBUG:docker.auth:Looking for auth entry for '381491942420.dkr.ecr.us-east-1.amazonaws.com'\n",
      "DEBUG:docker.auth:Found '381491942420.dkr.ecr.us-east-1.amazonaws.com'\n",
      "DEBUG:docker.auth:Found auth config\n",
      "DEBUG:urllib3.connectionpool:http://localhost:None \"POST /v1.44/images/381491942420.dkr.ecr.us-east-1.amazonaws.com/cloudknot/push?tag=random-mv-prod-04 HTTP/1.1\" 200 None\n",
      "DEBUG:urllib3.connectionpool:Resetting dropped connection: cloudformation.us-east-1.amazonaws.com\n",
      "DEBUG:urllib3.connectionpool:https://cloudformation.us-east-1.amazonaws.com:443 \"POST / HTTP/1.1\" 200 3043\n",
      "DEBUG:urllib3.connectionpool:Resetting dropped connection: cloudformation.us-east-1.amazonaws.com\n",
      "DEBUG:urllib3.connectionpool:https://cloudformation.us-east-1.amazonaws.com:443 \"POST / HTTP/1.1\" 200 3043\n",
      "DEBUG:urllib3.connectionpool:Resetting dropped connection: cloudformation.us-east-1.amazonaws.com\n",
      "DEBUG:urllib3.connectionpool:https://cloudformation.us-east-1.amazonaws.com:443 \"POST / HTTP/1.1\" 200 3043\n",
      "DEBUG:urllib3.connectionpool:Resetting dropped connection: cloudformation.us-east-1.amazonaws.com\n",
      "DEBUG:urllib3.connectionpool:https://cloudformation.us-east-1.amazonaws.com:443 \"POST / HTTP/1.1\" 200 3043\n",
      "DEBUG:urllib3.connectionpool:Resetting dropped connection: cloudformation.us-east-1.amazonaws.com\n",
      "DEBUG:urllib3.connectionpool:https://cloudformation.us-east-1.amazonaws.com:443 \"POST / HTTP/1.1\" 200 3043\n",
      "DEBUG:urllib3.connectionpool:Resetting dropped connection: cloudformation.us-east-1.amazonaws.com\n",
      "DEBUG:urllib3.connectionpool:https://cloudformation.us-east-1.amazonaws.com:443 \"POST / HTTP/1.1\" 200 3043\n",
      "DEBUG:urllib3.connectionpool:Resetting dropped connection: cloudformation.us-east-1.amazonaws.com\n",
      "DEBUG:urllib3.connectionpool:https://cloudformation.us-east-1.amazonaws.com:443 \"POST / HTTP/1.1\" 200 3043\n",
      "DEBUG:urllib3.connectionpool:Resetting dropped connection: cloudformation.us-east-1.amazonaws.com\n",
      "DEBUG:urllib3.connectionpool:https://cloudformation.us-east-1.amazonaws.com:443 \"POST / HTTP/1.1\" 200 3043\n",
      "DEBUG:urllib3.connectionpool:Resetting dropped connection: cloudformation.us-east-1.amazonaws.com\n",
      "DEBUG:urllib3.connectionpool:https://cloudformation.us-east-1.amazonaws.com:443 \"POST / HTTP/1.1\" 200 5392\n",
      "DEBUG:urllib3.connectionpool:https://cloudformation.us-east-1.amazonaws.com:443 \"POST / HTTP/1.1\" 200 5392\n",
      "DEBUG:urllib3.connectionpool:Resetting dropped connection: cloudknot-root-4e3592e1-36c8-4295-88f1-4a45a1f08bc6.s3.amazonaws.com\n",
      "DEBUG:urllib3.connectionpool:https://cloudknot-root-4e3592e1-36c8-4295-88f1-4a45a1f08bc6.s3.amazonaws.com:443 \"PUT / HTTP/1.1\" 200 0\n",
      "DEBUG:urllib3.connectionpool:Resetting dropped connection: iam.amazonaws.com\n",
      "DEBUG:urllib3.connectionpool:https://iam.amazonaws.com:443 \"POST / HTTP/1.1\" 200 454\n",
      "DEBUG:urllib3.connectionpool:https://cloudknot-root-4e3592e1-36c8-4295-88f1-4a45a1f08bc6.s3.amazonaws.com:443 \"PUT /?tagging HTTP/1.1\" 204 0\n",
      "DEBUG:urllib3.connectionpool:https://iam.amazonaws.com:443 \"POST / HTTP/1.1\" 409 376\n",
      "DEBUG:urllib3.connectionpool:https://iam.amazonaws.com:443 \"POST / HTTP/1.1\" 200 2263\n",
      "DEBUG:urllib3.connectionpool:https://cloudformation.us-east-1.amazonaws.com:443 \"POST / HTTP/1.1\" 200 5392\n",
      "DEBUG:urllib3.connectionpool:https://iam.amazonaws.com:443 \"POST / HTTP/1.1\" 200 454\n",
      "DEBUG:urllib3.connectionpool:https://cloudformation.us-east-1.amazonaws.com:443 \"POST / HTTP/1.1\" 200 392\n",
      "DEBUG:urllib3.connectionpool:https://cloudformation.us-east-1.amazonaws.com:443 \"POST / HTTP/1.1\" 200 5162\n",
      "DEBUG:urllib3.connectionpool:Resetting dropped connection: cloudformation.us-east-1.amazonaws.com\n",
      "DEBUG:urllib3.connectionpool:https://cloudformation.us-east-1.amazonaws.com:443 \"POST / HTTP/1.1\" 200 5100\n",
      "DEBUG:urllib3.connectionpool:Resetting dropped connection: cloudformation.us-east-1.amazonaws.com\n",
      "DEBUG:urllib3.connectionpool:https://cloudformation.us-east-1.amazonaws.com:443 \"POST / HTTP/1.1\" 200 5100\n",
      "DEBUG:urllib3.connectionpool:Resetting dropped connection: cloudformation.us-east-1.amazonaws.com\n",
      "DEBUG:urllib3.connectionpool:https://cloudformation.us-east-1.amazonaws.com:443 \"POST / HTTP/1.1\" 200 5745\n",
      "DEBUG:urllib3.connectionpool:https://cloudformation.us-east-1.amazonaws.com:443 \"POST / HTTP/1.1\" 200 5745\n",
      "DEBUG:urllib3.connectionpool:Starting new HTTPS connection (1): batch.us-east-1.amazonaws.com:443\n",
      "DEBUG:urllib3.connectionpool:https://batch.us-east-1.amazonaws.com:443 \"POST /v1/describejobdefinitions HTTP/1.1\" 200 1244\n"
     ]
    }
   ],
   "source": [
    "knot = ck.Knot(name='random-mv-prod-04', base_image=\"python:slim\", func=random_mv_prod, memory=128, retries=3)"
   ]
  },
  {
   "cell_type": "markdown",
   "metadata": {
    "deletable": true,
    "editable": true
   },
   "source": [
    "Submit 20 batch jobs to the knot. The `map()` method returns a list of futures for the results of each batch job. You can optionally supply a list of environment variables to each job."
   ]
  },
  {
   "cell_type": "code",
   "execution_count": 4,
   "metadata": {
    "collapsed": true,
    "deletable": true,
    "editable": true,
    "jupyter": {
     "outputs_hidden": true
    }
   },
   "outputs": [],
   "source": [
    "# import numpy since it was only imported in the `random_mv_prod` function above\n",
    "import numpy as np"
   ]
  },
  {
   "cell_type": "code",
   "execution_count": 5,
   "metadata": {
    "collapsed": false,
    "deletable": true,
    "editable": true,
    "jupyter": {
     "outputs_hidden": false
    }
   },
   "outputs": [
    {
     "name": "stderr",
     "output_type": "stream",
     "text": [
      "DEBUG:urllib3.connectionpool:Resetting dropped connection: cloudknot-root-4e3592e1-36c8-4295-88f1-4a45a1f08bc6.s3.amazonaws.com\n",
      "DEBUG:urllib3.connectionpool:https://cloudknot-root-4e3592e1-36c8-4295-88f1-4a45a1f08bc6.s3.amazonaws.com:443 \"PUT / HTTP/1.1\" 200 0\n",
      "DEBUG:urllib3.connectionpool:https://iam.amazonaws.com:443 \"POST / HTTP/1.1\" 200 454\n",
      "DEBUG:urllib3.connectionpool:https://cloudknot-root-4e3592e1-36c8-4295-88f1-4a45a1f08bc6.s3.amazonaws.com:443 \"PUT /?tagging HTTP/1.1\" 204 0\n",
      "DEBUG:urllib3.connectionpool:https://iam.amazonaws.com:443 \"POST / HTTP/1.1\" 409 376\n",
      "DEBUG:urllib3.connectionpool:https://iam.amazonaws.com:443 \"POST / HTTP/1.1\" 200 2263\n",
      "DEBUG:urllib3.connectionpool:https://batch.us-east-1.amazonaws.com:443 \"POST /v1/submitjob HTTP/1.1\" 200 169\n",
      "DEBUG:urllib3.connectionpool:https://cloudknot-root-4e3592e1-36c8-4295-88f1-4a45a1f08bc6.s3.amazonaws.com:443 \"PUT /cloudknot.jobs/random-mv-prod-04-ck-jd/8eeaff40-3e8f-43c8-a181-0518954b3d28/input.pickle HTTP/1.1\" 200 0\n",
      "DEBUG:urllib3.connectionpool:Starting new HTTPS connection (1): batch.us-east-1.amazonaws.com:443\n"
     ]
    }
   ],
   "source": [
    "# Submit the jobs\n",
    "result_future = knot.map(np.linspace(0.1, 100, 17), env_vars=[{'name': 'MY_ENV_VAR', 'value': 'foo'}])"
   ]
  },
  {
   "cell_type": "markdown",
   "metadata": {
    "deletable": true,
    "editable": true
   },
   "source": [
    "We can query the jobs associated with this knot by calling `knot.view_jobs()`, prints a bunch of job info and provides a consice summary of job statuses."
   ]
  },
  {
   "cell_type": "code",
   "execution_count": 6,
   "metadata": {
    "collapsed": false,
    "deletable": true,
    "editable": true,
    "jupyter": {
     "outputs_hidden": false
    }
   },
   "outputs": [
    {
     "name": "stderr",
     "output_type": "stream",
     "text": [
      "DEBUG:urllib3.connectionpool:Starting new HTTPS connection (2): batch.us-east-1.amazonaws.com:443\n",
      "DEBUG:urllib3.connectionpool:https://batch.us-east-1.amazonaws.com:443 \"POST /v1/describejobs HTTP/1.1\" 200 1649\n",
      "DEBUG:urllib3.connectionpool:https://batch.us-east-1.amazonaws.com:443 \"POST /v1/describejobs HTTP/1.1\" 200 1649\n"
     ]
    },
    {
     "name": "stdout",
     "output_type": "stream",
     "text": [
      "Job ID              Name                        Status   \n",
      "---------------------------------------------------------\n",
      "8eeaff40-3e8f-43c8-a181-0518954b3d28        random-mv-prod-04-0         SUBMITTED\n"
     ]
    }
   ],
   "source": [
    "# Rerun this cell as often as you like to update your job status info\n",
    "knot.view_jobs()"
   ]
  },
  {
   "cell_type": "markdown",
   "metadata": {
    "deletable": true,
    "editable": true
   },
   "source": [
    "We can also inspect each BatchJob instance by looking at `knot.jobs` which returns a list of BatchJob instances for each submitted job, e.g.:"
   ]
  },
  {
   "cell_type": "code",
   "execution_count": 7,
   "metadata": {
    "collapsed": true,
    "deletable": true,
    "editable": true,
    "jupyter": {
     "outputs_hidden": true
    }
   },
   "outputs": [],
   "source": [
    "last_job = knot.jobs[-1]"
   ]
  },
  {
   "cell_type": "code",
   "execution_count": 8,
   "metadata": {
    "collapsed": false,
    "deletable": true,
    "editable": true,
    "jupyter": {
     "outputs_hidden": false
    }
   },
   "outputs": [
    {
     "name": "stderr",
     "output_type": "stream",
     "text": [
      "DEBUG:urllib3.connectionpool:https://batch.us-east-1.amazonaws.com:443 \"POST /v1/describejobs HTTP/1.1\" 200 1649\n"
     ]
    },
    {
     "name": "stdout",
     "output_type": "stream",
     "text": [
      "False\n"
     ]
    },
    {
     "name": "stderr",
     "output_type": "stream",
     "text": [
      "DEBUG:urllib3.connectionpool:https://batch.us-east-1.amazonaws.com:443 \"POST /v1/describejobs HTTP/1.1\" 200 1649\n",
      "DEBUG:urllib3.connectionpool:https://batch.us-east-1.amazonaws.com:443 \"POST /v1/describejobs HTTP/1.1\" 200 1819\n",
      "DEBUG:urllib3.connectionpool:https://batch.us-east-1.amazonaws.com:443 \"POST /v1/describejobs HTTP/1.1\" 200 1819\n",
      "DEBUG:urllib3.connectionpool:https://batch.us-east-1.amazonaws.com:443 \"POST /v1/describejobs HTTP/1.1\" 200 1819\n",
      "DEBUG:urllib3.connectionpool:https://batch.us-east-1.amazonaws.com:443 \"POST /v1/describejobs HTTP/1.1\" 200 1819\n",
      "DEBUG:urllib3.connectionpool:https://batch.us-east-1.amazonaws.com:443 \"POST /v1/describejobs HTTP/1.1\" 200 1819\n",
      "DEBUG:urllib3.connectionpool:https://batch.us-east-1.amazonaws.com:443 \"POST /v1/describejobs HTTP/1.1\" 200 1819\n",
      "DEBUG:urllib3.connectionpool:https://batch.us-east-1.amazonaws.com:443 \"POST /v1/describejobs HTTP/1.1\" 200 1819\n"
     ]
    },
    {
     "ename": "CKTimeoutError",
     "evalue": "The job with job-id 8eeaff40-3e8f-43c8-a181-0518954b3d28 did not finish within the requested timeout period",
     "output_type": "error",
     "traceback": [
      "\u001b[0;31m---------------------------------------------------------------------------\u001b[0m",
      "\u001b[0;31mCKTimeoutError\u001b[0m                            Traceback (most recent call last)",
      "\u001b[0;32m/tmp/ipykernel_391161/1253052737.py\u001b[0m in \u001b[0;36m<module>\u001b[0;34m\u001b[0m\n\u001b[1;32m      1\u001b[0m \u001b[0mprint\u001b[0m\u001b[0;34m(\u001b[0m\u001b[0mlast_job\u001b[0m\u001b[0;34m.\u001b[0m\u001b[0mdone\u001b[0m\u001b[0;34m)\u001b[0m\u001b[0;34m\u001b[0m\u001b[0;34m\u001b[0m\u001b[0m\n\u001b[0;32m----> 2\u001b[0;31m \u001b[0mprint\u001b[0m\u001b[0;34m(\u001b[0m\u001b[0mlast_job\u001b[0m\u001b[0;34m.\u001b[0m\u001b[0mresult\u001b[0m\u001b[0;34m(\u001b[0m\u001b[0mtimeout\u001b[0m\u001b[0;34m=\u001b[0m\u001b[0;36m15\u001b[0m\u001b[0;34m)\u001b[0m\u001b[0;34m)\u001b[0m\u001b[0;34m\u001b[0m\u001b[0;34m\u001b[0m\u001b[0m\n\u001b[0m",
      "\u001b[0;32m~/work/proj/cloudknot/cloudknot/cloudknot/aws/batch.py\u001b[0m in \u001b[0;36mresult\u001b[0;34m(self, timeout)\u001b[0m\n\u001b[1;32m    516\u001b[0m \u001b[0;34m\u001b[0m\u001b[0m\n\u001b[1;32m    517\u001b[0m         \u001b[0;32mif\u001b[0m \u001b[0;32mnot\u001b[0m \u001b[0mself\u001b[0m\u001b[0;34m.\u001b[0m\u001b[0mdone\u001b[0m\u001b[0;34m:\u001b[0m\u001b[0;34m\u001b[0m\u001b[0;34m\u001b[0m\u001b[0m\n\u001b[0;32m--> 518\u001b[0;31m             \u001b[0;32mraise\u001b[0m \u001b[0mCKTimeoutError\u001b[0m\u001b[0;34m(\u001b[0m\u001b[0mself\u001b[0m\u001b[0;34m.\u001b[0m\u001b[0mjob_id\u001b[0m\u001b[0;34m)\u001b[0m\u001b[0;34m\u001b[0m\u001b[0;34m\u001b[0m\u001b[0m\n\u001b[0m\u001b[1;32m    519\u001b[0m \u001b[0;34m\u001b[0m\u001b[0m\n\u001b[1;32m    520\u001b[0m         \u001b[0mstatus\u001b[0m \u001b[0;34m=\u001b[0m \u001b[0mself\u001b[0m\u001b[0;34m.\u001b[0m\u001b[0mstatus\u001b[0m\u001b[0;34m\u001b[0m\u001b[0;34m\u001b[0m\u001b[0m\n",
      "\u001b[0;31mCKTimeoutError\u001b[0m: The job with job-id 8eeaff40-3e8f-43c8-a181-0518954b3d28 did not finish within the requested timeout period"
     ]
    },
    {
     "name": "stderr",
     "output_type": "stream",
     "text": [
      "DEBUG:urllib3.connectionpool:https://batch.us-east-1.amazonaws.com:443 \"POST /v1/describejobs HTTP/1.1\" 200 1819\n",
      "DEBUG:urllib3.connectionpool:https://batch.us-east-1.amazonaws.com:443 \"POST /v1/describejobs HTTP/1.1\" 200 1819\n",
      "DEBUG:urllib3.connectionpool:https://batch.us-east-1.amazonaws.com:443 \"POST /v1/describejobs HTTP/1.1\" 200 1819\n",
      "DEBUG:urllib3.connectionpool:https://batch.us-east-1.amazonaws.com:443 \"POST /v1/describejobs HTTP/1.1\" 200 1819\n",
      "DEBUG:urllib3.connectionpool:https://batch.us-east-1.amazonaws.com:443 \"POST /v1/describejobs HTTP/1.1\" 200 1819\n",
      "DEBUG:urllib3.connectionpool:https://batch.us-east-1.amazonaws.com:443 \"POST /v1/describejobs HTTP/1.1\" 200 1819\n",
      "DEBUG:urllib3.connectionpool:https://batch.us-east-1.amazonaws.com:443 \"POST /v1/describejobs HTTP/1.1\" 200 1819\n",
      "DEBUG:urllib3.connectionpool:https://batch.us-east-1.amazonaws.com:443 \"POST /v1/describejobs HTTP/1.1\" 200 1819\n",
      "DEBUG:urllib3.connectionpool:https://batch.us-east-1.amazonaws.com:443 \"POST /v1/describejobs HTTP/1.1\" 200 1819\n",
      "DEBUG:urllib3.connectionpool:https://batch.us-east-1.amazonaws.com:443 \"POST /v1/describejobs HTTP/1.1\" 200 1819\n",
      "DEBUG:urllib3.connectionpool:https://batch.us-east-1.amazonaws.com:443 \"POST /v1/describejobs HTTP/1.1\" 200 1818\n",
      "DEBUG:urllib3.connectionpool:https://batch.us-east-1.amazonaws.com:443 \"POST /v1/describejobs HTTP/1.1\" 200 1818\n",
      "DEBUG:urllib3.connectionpool:https://batch.us-east-1.amazonaws.com:443 \"POST /v1/describejobs HTTP/1.1\" 200 1818\n",
      "DEBUG:urllib3.connectionpool:https://batch.us-east-1.amazonaws.com:443 \"POST /v1/describejobs HTTP/1.1\" 200 1818\n",
      "DEBUG:urllib3.connectionpool:https://batch.us-east-1.amazonaws.com:443 \"POST /v1/describejobs HTTP/1.1\" 200 1821\n",
      "DEBUG:urllib3.connectionpool:https://batch.us-east-1.amazonaws.com:443 \"POST /v1/describejobs HTTP/1.1\" 200 1821\n",
      "DEBUG:urllib3.connectionpool:https://batch.us-east-1.amazonaws.com:443 \"POST /v1/describejobs HTTP/1.1\" 200 1821\n",
      "DEBUG:urllib3.connectionpool:Starting new HTTPS connection (1): cloudknot-root-4e3592e1-36c8-4295-88f1-4a45a1f08bc6.s3.amazonaws.com:443\n",
      "DEBUG:urllib3.connectionpool:https://cloudknot-root-4e3592e1-36c8-4295-88f1-4a45a1f08bc6.s3.amazonaws.com:443 \"GET /cloudknot.jobs/random-mv-prod-04-ck-jd/8eeaff40-3e8f-43c8-a181-0518954b3d28/0/003/output.pickle HTTP/1.1\" 404 None\n",
      "DEBUG:urllib3.connectionpool:https://cloudknot-root-4e3592e1-36c8-4295-88f1-4a45a1f08bc6.s3.amazonaws.com:443 \"GET /cloudknot.jobs/random-mv-prod-04-ck-jd/8eeaff40-3e8f-43c8-a181-0518954b3d28/0/002/output.pickle HTTP/1.1\" 404 None\n",
      "DEBUG:urllib3.connectionpool:https://cloudknot-root-4e3592e1-36c8-4295-88f1-4a45a1f08bc6.s3.amazonaws.com:443 \"GET /cloudknot.jobs/random-mv-prod-04-ck-jd/8eeaff40-3e8f-43c8-a181-0518954b3d28/0/001/output.pickle HTTP/1.1\" 200 8349\n",
      "DEBUG:urllib3.connectionpool:https://cloudknot-root-4e3592e1-36c8-4295-88f1-4a45a1f08bc6.s3.amazonaws.com:443 \"GET /cloudknot.jobs/random-mv-prod-04-ck-jd/8eeaff40-3e8f-43c8-a181-0518954b3d28/1/003/output.pickle HTTP/1.1\" 404 None\n",
      "DEBUG:urllib3.connectionpool:https://cloudknot-root-4e3592e1-36c8-4295-88f1-4a45a1f08bc6.s3.amazonaws.com:443 \"GET /cloudknot.jobs/random-mv-prod-04-ck-jd/8eeaff40-3e8f-43c8-a181-0518954b3d28/1/002/output.pickle HTTP/1.1\" 404 None\n",
      "DEBUG:urllib3.connectionpool:https://cloudknot-root-4e3592e1-36c8-4295-88f1-4a45a1f08bc6.s3.amazonaws.com:443 \"GET /cloudknot.jobs/random-mv-prod-04-ck-jd/8eeaff40-3e8f-43c8-a181-0518954b3d28/1/001/output.pickle HTTP/1.1\" 200 8349\n",
      "DEBUG:urllib3.connectionpool:https://cloudknot-root-4e3592e1-36c8-4295-88f1-4a45a1f08bc6.s3.amazonaws.com:443 \"GET /cloudknot.jobs/random-mv-prod-04-ck-jd/8eeaff40-3e8f-43c8-a181-0518954b3d28/2/003/output.pickle HTTP/1.1\" 404 None\n",
      "DEBUG:urllib3.connectionpool:https://cloudknot-root-4e3592e1-36c8-4295-88f1-4a45a1f08bc6.s3.amazonaws.com:443 \"GET /cloudknot.jobs/random-mv-prod-04-ck-jd/8eeaff40-3e8f-43c8-a181-0518954b3d28/2/002/output.pickle HTTP/1.1\" 404 None\n",
      "DEBUG:urllib3.connectionpool:https://cloudknot-root-4e3592e1-36c8-4295-88f1-4a45a1f08bc6.s3.amazonaws.com:443 \"GET /cloudknot.jobs/random-mv-prod-04-ck-jd/8eeaff40-3e8f-43c8-a181-0518954b3d28/2/001/output.pickle HTTP/1.1\" 200 8349\n",
      "DEBUG:urllib3.connectionpool:https://cloudknot-root-4e3592e1-36c8-4295-88f1-4a45a1f08bc6.s3.amazonaws.com:443 \"GET /cloudknot.jobs/random-mv-prod-04-ck-jd/8eeaff40-3e8f-43c8-a181-0518954b3d28/3/003/output.pickle HTTP/1.1\" 404 None\n",
      "DEBUG:urllib3.connectionpool:https://cloudknot-root-4e3592e1-36c8-4295-88f1-4a45a1f08bc6.s3.amazonaws.com:443 \"GET /cloudknot.jobs/random-mv-prod-04-ck-jd/8eeaff40-3e8f-43c8-a181-0518954b3d28/3/002/output.pickle HTTP/1.1\" 404 None\n",
      "DEBUG:urllib3.connectionpool:https://cloudknot-root-4e3592e1-36c8-4295-88f1-4a45a1f08bc6.s3.amazonaws.com:443 \"GET /cloudknot.jobs/random-mv-prod-04-ck-jd/8eeaff40-3e8f-43c8-a181-0518954b3d28/3/001/output.pickle HTTP/1.1\" 200 8349\n",
      "DEBUG:urllib3.connectionpool:https://cloudknot-root-4e3592e1-36c8-4295-88f1-4a45a1f08bc6.s3.amazonaws.com:443 \"GET /cloudknot.jobs/random-mv-prod-04-ck-jd/8eeaff40-3e8f-43c8-a181-0518954b3d28/4/003/output.pickle HTTP/1.1\" 404 None\n",
      "DEBUG:urllib3.connectionpool:https://cloudknot-root-4e3592e1-36c8-4295-88f1-4a45a1f08bc6.s3.amazonaws.com:443 \"GET /cloudknot.jobs/random-mv-prod-04-ck-jd/8eeaff40-3e8f-43c8-a181-0518954b3d28/4/002/output.pickle HTTP/1.1\" 404 None\n",
      "DEBUG:urllib3.connectionpool:https://cloudknot-root-4e3592e1-36c8-4295-88f1-4a45a1f08bc6.s3.amazonaws.com:443 \"GET /cloudknot.jobs/random-mv-prod-04-ck-jd/8eeaff40-3e8f-43c8-a181-0518954b3d28/4/001/output.pickle HTTP/1.1\" 200 8349\n",
      "DEBUG:urllib3.connectionpool:https://cloudknot-root-4e3592e1-36c8-4295-88f1-4a45a1f08bc6.s3.amazonaws.com:443 \"GET /cloudknot.jobs/random-mv-prod-04-ck-jd/8eeaff40-3e8f-43c8-a181-0518954b3d28/5/003/output.pickle HTTP/1.1\" 404 None\n",
      "DEBUG:urllib3.connectionpool:https://cloudknot-root-4e3592e1-36c8-4295-88f1-4a45a1f08bc6.s3.amazonaws.com:443 \"GET /cloudknot.jobs/random-mv-prod-04-ck-jd/8eeaff40-3e8f-43c8-a181-0518954b3d28/5/002/output.pickle HTTP/1.1\" 404 None\n",
      "DEBUG:urllib3.connectionpool:https://cloudknot-root-4e3592e1-36c8-4295-88f1-4a45a1f08bc6.s3.amazonaws.com:443 \"GET /cloudknot.jobs/random-mv-prod-04-ck-jd/8eeaff40-3e8f-43c8-a181-0518954b3d28/5/001/output.pickle HTTP/1.1\" 200 8349\n",
      "DEBUG:urllib3.connectionpool:https://cloudknot-root-4e3592e1-36c8-4295-88f1-4a45a1f08bc6.s3.amazonaws.com:443 \"GET /cloudknot.jobs/random-mv-prod-04-ck-jd/8eeaff40-3e8f-43c8-a181-0518954b3d28/6/003/output.pickle HTTP/1.1\" 404 None\n",
      "DEBUG:urllib3.connectionpool:https://cloudknot-root-4e3592e1-36c8-4295-88f1-4a45a1f08bc6.s3.amazonaws.com:443 \"GET /cloudknot.jobs/random-mv-prod-04-ck-jd/8eeaff40-3e8f-43c8-a181-0518954b3d28/6/002/output.pickle HTTP/1.1\" 404 None\n",
      "DEBUG:urllib3.connectionpool:https://cloudknot-root-4e3592e1-36c8-4295-88f1-4a45a1f08bc6.s3.amazonaws.com:443 \"GET /cloudknot.jobs/random-mv-prod-04-ck-jd/8eeaff40-3e8f-43c8-a181-0518954b3d28/6/001/output.pickle HTTP/1.1\" 200 8349\n",
      "DEBUG:urllib3.connectionpool:https://cloudknot-root-4e3592e1-36c8-4295-88f1-4a45a1f08bc6.s3.amazonaws.com:443 \"GET /cloudknot.jobs/random-mv-prod-04-ck-jd/8eeaff40-3e8f-43c8-a181-0518954b3d28/7/003/output.pickle HTTP/1.1\" 404 None\n",
      "DEBUG:urllib3.connectionpool:https://cloudknot-root-4e3592e1-36c8-4295-88f1-4a45a1f08bc6.s3.amazonaws.com:443 \"GET /cloudknot.jobs/random-mv-prod-04-ck-jd/8eeaff40-3e8f-43c8-a181-0518954b3d28/7/002/output.pickle HTTP/1.1\" 404 None\n",
      "DEBUG:urllib3.connectionpool:https://cloudknot-root-4e3592e1-36c8-4295-88f1-4a45a1f08bc6.s3.amazonaws.com:443 \"GET /cloudknot.jobs/random-mv-prod-04-ck-jd/8eeaff40-3e8f-43c8-a181-0518954b3d28/7/001/output.pickle HTTP/1.1\" 200 8349\n",
      "DEBUG:urllib3.connectionpool:https://cloudknot-root-4e3592e1-36c8-4295-88f1-4a45a1f08bc6.s3.amazonaws.com:443 \"GET /cloudknot.jobs/random-mv-prod-04-ck-jd/8eeaff40-3e8f-43c8-a181-0518954b3d28/8/003/output.pickle HTTP/1.1\" 404 None\n",
      "DEBUG:urllib3.connectionpool:https://cloudknot-root-4e3592e1-36c8-4295-88f1-4a45a1f08bc6.s3.amazonaws.com:443 \"GET /cloudknot.jobs/random-mv-prod-04-ck-jd/8eeaff40-3e8f-43c8-a181-0518954b3d28/8/002/output.pickle HTTP/1.1\" 404 None\n",
      "DEBUG:urllib3.connectionpool:https://cloudknot-root-4e3592e1-36c8-4295-88f1-4a45a1f08bc6.s3.amazonaws.com:443 \"GET /cloudknot.jobs/random-mv-prod-04-ck-jd/8eeaff40-3e8f-43c8-a181-0518954b3d28/8/001/output.pickle HTTP/1.1\" 200 8349\n",
      "DEBUG:urllib3.connectionpool:https://cloudknot-root-4e3592e1-36c8-4295-88f1-4a45a1f08bc6.s3.amazonaws.com:443 \"GET /cloudknot.jobs/random-mv-prod-04-ck-jd/8eeaff40-3e8f-43c8-a181-0518954b3d28/9/003/output.pickle HTTP/1.1\" 404 None\n",
      "DEBUG:urllib3.connectionpool:https://cloudknot-root-4e3592e1-36c8-4295-88f1-4a45a1f08bc6.s3.amazonaws.com:443 \"GET /cloudknot.jobs/random-mv-prod-04-ck-jd/8eeaff40-3e8f-43c8-a181-0518954b3d28/9/002/output.pickle HTTP/1.1\" 404 None\n",
      "DEBUG:urllib3.connectionpool:https://cloudknot-root-4e3592e1-36c8-4295-88f1-4a45a1f08bc6.s3.amazonaws.com:443 \"GET /cloudknot.jobs/random-mv-prod-04-ck-jd/8eeaff40-3e8f-43c8-a181-0518954b3d28/9/001/output.pickle HTTP/1.1\" 200 8349\n",
      "DEBUG:urllib3.connectionpool:https://cloudknot-root-4e3592e1-36c8-4295-88f1-4a45a1f08bc6.s3.amazonaws.com:443 \"GET /cloudknot.jobs/random-mv-prod-04-ck-jd/8eeaff40-3e8f-43c8-a181-0518954b3d28/10/003/output.pickle HTTP/1.1\" 404 None\n",
      "DEBUG:urllib3.connectionpool:https://cloudknot-root-4e3592e1-36c8-4295-88f1-4a45a1f08bc6.s3.amazonaws.com:443 \"GET /cloudknot.jobs/random-mv-prod-04-ck-jd/8eeaff40-3e8f-43c8-a181-0518954b3d28/10/002/output.pickle HTTP/1.1\" 404 None\n",
      "DEBUG:urllib3.connectionpool:https://cloudknot-root-4e3592e1-36c8-4295-88f1-4a45a1f08bc6.s3.amazonaws.com:443 \"GET /cloudknot.jobs/random-mv-prod-04-ck-jd/8eeaff40-3e8f-43c8-a181-0518954b3d28/10/001/output.pickle HTTP/1.1\" 200 8349\n",
      "DEBUG:urllib3.connectionpool:https://cloudknot-root-4e3592e1-36c8-4295-88f1-4a45a1f08bc6.s3.amazonaws.com:443 \"GET /cloudknot.jobs/random-mv-prod-04-ck-jd/8eeaff40-3e8f-43c8-a181-0518954b3d28/11/003/output.pickle HTTP/1.1\" 404 None\n",
      "DEBUG:urllib3.connectionpool:https://cloudknot-root-4e3592e1-36c8-4295-88f1-4a45a1f08bc6.s3.amazonaws.com:443 \"GET /cloudknot.jobs/random-mv-prod-04-ck-jd/8eeaff40-3e8f-43c8-a181-0518954b3d28/11/002/output.pickle HTTP/1.1\" 404 None\n",
      "DEBUG:urllib3.connectionpool:https://cloudknot-root-4e3592e1-36c8-4295-88f1-4a45a1f08bc6.s3.amazonaws.com:443 \"GET /cloudknot.jobs/random-mv-prod-04-ck-jd/8eeaff40-3e8f-43c8-a181-0518954b3d28/11/001/output.pickle HTTP/1.1\" 200 8349\n",
      "DEBUG:urllib3.connectionpool:https://cloudknot-root-4e3592e1-36c8-4295-88f1-4a45a1f08bc6.s3.amazonaws.com:443 \"GET /cloudknot.jobs/random-mv-prod-04-ck-jd/8eeaff40-3e8f-43c8-a181-0518954b3d28/12/003/output.pickle HTTP/1.1\" 404 None\n",
      "DEBUG:urllib3.connectionpool:https://cloudknot-root-4e3592e1-36c8-4295-88f1-4a45a1f08bc6.s3.amazonaws.com:443 \"GET /cloudknot.jobs/random-mv-prod-04-ck-jd/8eeaff40-3e8f-43c8-a181-0518954b3d28/12/002/output.pickle HTTP/1.1\" 404 None\n",
      "DEBUG:urllib3.connectionpool:https://cloudknot-root-4e3592e1-36c8-4295-88f1-4a45a1f08bc6.s3.amazonaws.com:443 \"GET /cloudknot.jobs/random-mv-prod-04-ck-jd/8eeaff40-3e8f-43c8-a181-0518954b3d28/12/001/output.pickle HTTP/1.1\" 200 8349\n",
      "DEBUG:urllib3.connectionpool:https://cloudknot-root-4e3592e1-36c8-4295-88f1-4a45a1f08bc6.s3.amazonaws.com:443 \"GET /cloudknot.jobs/random-mv-prod-04-ck-jd/8eeaff40-3e8f-43c8-a181-0518954b3d28/13/003/output.pickle HTTP/1.1\" 404 None\n",
      "DEBUG:urllib3.connectionpool:https://cloudknot-root-4e3592e1-36c8-4295-88f1-4a45a1f08bc6.s3.amazonaws.com:443 \"GET /cloudknot.jobs/random-mv-prod-04-ck-jd/8eeaff40-3e8f-43c8-a181-0518954b3d28/13/002/output.pickle HTTP/1.1\" 404 None\n",
      "DEBUG:urllib3.connectionpool:https://cloudknot-root-4e3592e1-36c8-4295-88f1-4a45a1f08bc6.s3.amazonaws.com:443 \"GET /cloudknot.jobs/random-mv-prod-04-ck-jd/8eeaff40-3e8f-43c8-a181-0518954b3d28/13/001/output.pickle HTTP/1.1\" 200 8349\n",
      "DEBUG:urllib3.connectionpool:https://cloudknot-root-4e3592e1-36c8-4295-88f1-4a45a1f08bc6.s3.amazonaws.com:443 \"GET /cloudknot.jobs/random-mv-prod-04-ck-jd/8eeaff40-3e8f-43c8-a181-0518954b3d28/14/003/output.pickle HTTP/1.1\" 404 None\n",
      "DEBUG:urllib3.connectionpool:https://cloudknot-root-4e3592e1-36c8-4295-88f1-4a45a1f08bc6.s3.amazonaws.com:443 \"GET /cloudknot.jobs/random-mv-prod-04-ck-jd/8eeaff40-3e8f-43c8-a181-0518954b3d28/14/002/output.pickle HTTP/1.1\" 404 None\n",
      "DEBUG:urllib3.connectionpool:https://cloudknot-root-4e3592e1-36c8-4295-88f1-4a45a1f08bc6.s3.amazonaws.com:443 \"GET /cloudknot.jobs/random-mv-prod-04-ck-jd/8eeaff40-3e8f-43c8-a181-0518954b3d28/14/001/output.pickle HTTP/1.1\" 200 8349\n",
      "DEBUG:urllib3.connectionpool:https://cloudknot-root-4e3592e1-36c8-4295-88f1-4a45a1f08bc6.s3.amazonaws.com:443 \"GET /cloudknot.jobs/random-mv-prod-04-ck-jd/8eeaff40-3e8f-43c8-a181-0518954b3d28/15/003/output.pickle HTTP/1.1\" 404 None\n",
      "DEBUG:urllib3.connectionpool:https://cloudknot-root-4e3592e1-36c8-4295-88f1-4a45a1f08bc6.s3.amazonaws.com:443 \"GET /cloudknot.jobs/random-mv-prod-04-ck-jd/8eeaff40-3e8f-43c8-a181-0518954b3d28/15/002/output.pickle HTTP/1.1\" 404 None\n",
      "DEBUG:urllib3.connectionpool:https://cloudknot-root-4e3592e1-36c8-4295-88f1-4a45a1f08bc6.s3.amazonaws.com:443 \"GET /cloudknot.jobs/random-mv-prod-04-ck-jd/8eeaff40-3e8f-43c8-a181-0518954b3d28/15/001/output.pickle HTTP/1.1\" 200 8349\n",
      "DEBUG:urllib3.connectionpool:https://cloudknot-root-4e3592e1-36c8-4295-88f1-4a45a1f08bc6.s3.amazonaws.com:443 \"GET /cloudknot.jobs/random-mv-prod-04-ck-jd/8eeaff40-3e8f-43c8-a181-0518954b3d28/16/003/output.pickle HTTP/1.1\" 404 None\n",
      "DEBUG:urllib3.connectionpool:https://cloudknot-root-4e3592e1-36c8-4295-88f1-4a45a1f08bc6.s3.amazonaws.com:443 \"GET /cloudknot.jobs/random-mv-prod-04-ck-jd/8eeaff40-3e8f-43c8-a181-0518954b3d28/16/002/output.pickle HTTP/1.1\" 404 None\n",
      "DEBUG:urllib3.connectionpool:https://cloudknot-root-4e3592e1-36c8-4295-88f1-4a45a1f08bc6.s3.amazonaws.com:443 \"GET /cloudknot.jobs/random-mv-prod-04-ck-jd/8eeaff40-3e8f-43c8-a181-0518954b3d28/16/001/output.pickle HTTP/1.1\" 200 8349\n"
     ]
    }
   ],
   "source": [
    "print(last_job.done)\n",
    "print(last_job.result(timeout=15))"
   ]
  },
  {
   "cell_type": "code",
   "execution_count": null,
   "metadata": {
    "collapsed": false,
    "jupyter": {
     "outputs_hidden": false
    }
   },
   "outputs": [],
   "source": [
    "last_job.status"
   ]
  },
  {
   "cell_type": "markdown",
   "metadata": {
    "deletable": true,
    "editable": true
   },
   "source": [
    "`Knot.map()` returns a list of futures so you can use any of the futures methods to query the results, e.g. `done()` or `result()`."
   ]
  },
  {
   "cell_type": "code",
   "execution_count": null,
   "metadata": {
    "collapsed": false,
    "jupyter": {
     "outputs_hidden": false
    }
   },
   "outputs": [],
   "source": [
    "print(result_future.done())"
   ]
  },
  {
   "cell_type": "code",
   "execution_count": null,
   "metadata": {
    "collapsed": false,
    "deletable": true,
    "editable": true,
    "jupyter": {
     "outputs_hidden": false
    }
   },
   "outputs": [],
   "source": [
    "print(result_future.result())"
   ]
  },
  {
   "cell_type": "markdown",
   "metadata": {
    "deletable": true,
    "editable": true
   },
   "source": [
    "Once you're all done, clobber the knot, including the underlying PARS and the remote repo."
   ]
  },
  {
   "cell_type": "code",
   "execution_count": null,
   "metadata": {
    "collapsed": false,
    "deletable": true,
    "editable": true,
    "jupyter": {
     "outputs_hidden": false
    }
   },
   "outputs": [],
   "source": [
    "knot.clobber(clobber_pars=True, clobber_repo=True, clobber_image=True)"
   ]
  },
  {
   "cell_type": "code",
   "execution_count": null,
   "metadata": {
    "collapsed": true,
    "deletable": true,
    "editable": true,
    "jupyter": {
     "outputs_hidden": true
    }
   },
   "outputs": [],
   "source": []
  }
 ],
 "metadata": {
  "kernelspec": {
   "display_name": "Python 3",
   "language": "python",
   "name": "python3"
  },
  "language_info": {
   "codemirror_mode": {
    "name": "ipython",
    "version": 3
   },
   "file_extension": ".py",
   "mimetype": "text/x-python",
   "name": "python",
   "nbconvert_exporter": "python",
   "pygments_lexer": "ipython3",
   "version": "3.7.17"
  }
 },
 "nbformat": 4,
 "nbformat_minor": 4
}
